{
 "cells": [
  {
   "cell_type": "code",
   "execution_count": 1,
   "id": "b9a952dc-99cd-4809-92fc-180350defd36",
   "metadata": {},
   "outputs": [],
   "source": [
    "import pandas as pd\n",
    "import numpy as np\n",
    "import matplotlib.pyplot as plt"
   ]
  },
  {
   "cell_type": "code",
   "execution_count": 2,
   "id": "d12d4664-cd60-4c4d-a676-0fdf9977c511",
   "metadata": {},
   "outputs": [],
   "source": [
    "score_data=pd.read_csv(r\"C:\\Users\\Adhi Ganapathy\\Documents\\Python_ws\\Linear Regression 13072025\\GAP Prediction.csv\")"
   ]
  },
  {
   "cell_type": "code",
   "execution_count": 3,
   "id": "c7583270-19ae-42a3-961f-462207ee9824",
   "metadata": {},
   "outputs": [
    {
     "name": "stdout",
     "output_type": "stream",
     "text": [
      "<class 'pandas.core.frame.DataFrame'>\n"
     ]
    }
   ],
   "source": [
    "print(type(score_data))"
   ]
  },
  {
   "cell_type": "code",
   "execution_count": 4,
   "id": "cdc138ac-1a82-4b4b-975b-4f7a1d1a5d39",
   "metadata": {},
   "outputs": [
    {
     "data": {
      "text/html": [
       "<div>\n",
       "<style scoped>\n",
       "    .dataframe tbody tr th:only-of-type {\n",
       "        vertical-align: middle;\n",
       "    }\n",
       "\n",
       "    .dataframe tbody tr th {\n",
       "        vertical-align: top;\n",
       "    }\n",
       "\n",
       "    .dataframe thead th {\n",
       "        text-align: right;\n",
       "    }\n",
       "</style>\n",
       "<table border=\"1\" class=\"dataframe\">\n",
       "  <thead>\n",
       "    <tr style=\"text-align: right;\">\n",
       "      <th></th>\n",
       "      <th>SAT</th>\n",
       "      <th>GPA</th>\n",
       "    </tr>\n",
       "  </thead>\n",
       "  <tbody>\n",
       "    <tr>\n",
       "      <th>0</th>\n",
       "      <td>1714</td>\n",
       "      <td>2.40</td>\n",
       "    </tr>\n",
       "    <tr>\n",
       "      <th>1</th>\n",
       "      <td>1664</td>\n",
       "      <td>2.52</td>\n",
       "    </tr>\n",
       "    <tr>\n",
       "      <th>2</th>\n",
       "      <td>1760</td>\n",
       "      <td>2.54</td>\n",
       "    </tr>\n",
       "    <tr>\n",
       "      <th>3</th>\n",
       "      <td>1685</td>\n",
       "      <td>2.74</td>\n",
       "    </tr>\n",
       "    <tr>\n",
       "      <th>4</th>\n",
       "      <td>1693</td>\n",
       "      <td>2.83</td>\n",
       "    </tr>\n",
       "  </tbody>\n",
       "</table>\n",
       "</div>"
      ],
      "text/plain": [
       "    SAT   GPA\n",
       "0  1714  2.40\n",
       "1  1664  2.52\n",
       "2  1760  2.54\n",
       "3  1685  2.74\n",
       "4  1693  2.83"
      ]
     },
     "execution_count": 4,
     "metadata": {},
     "output_type": "execute_result"
    }
   ],
   "source": [
    "score_data.head()"
   ]
  },
  {
   "cell_type": "code",
   "execution_count": 5,
   "id": "47683e6c-7251-4e44-be73-aa5448a2a016",
   "metadata": {},
   "outputs": [
    {
     "data": {
      "text/html": [
       "<div>\n",
       "<style scoped>\n",
       "    .dataframe tbody tr th:only-of-type {\n",
       "        vertical-align: middle;\n",
       "    }\n",
       "\n",
       "    .dataframe tbody tr th {\n",
       "        vertical-align: top;\n",
       "    }\n",
       "\n",
       "    .dataframe thead th {\n",
       "        text-align: right;\n",
       "    }\n",
       "</style>\n",
       "<table border=\"1\" class=\"dataframe\">\n",
       "  <thead>\n",
       "    <tr style=\"text-align: right;\">\n",
       "      <th></th>\n",
       "      <th>SAT</th>\n",
       "      <th>GPA</th>\n",
       "    </tr>\n",
       "  </thead>\n",
       "  <tbody>\n",
       "    <tr>\n",
       "      <th>79</th>\n",
       "      <td>1936</td>\n",
       "      <td>3.71</td>\n",
       "    </tr>\n",
       "    <tr>\n",
       "      <th>80</th>\n",
       "      <td>1810</td>\n",
       "      <td>3.71</td>\n",
       "    </tr>\n",
       "    <tr>\n",
       "      <th>81</th>\n",
       "      <td>1987</td>\n",
       "      <td>3.73</td>\n",
       "    </tr>\n",
       "    <tr>\n",
       "      <th>82</th>\n",
       "      <td>1962</td>\n",
       "      <td>3.76</td>\n",
       "    </tr>\n",
       "    <tr>\n",
       "      <th>83</th>\n",
       "      <td>2050</td>\n",
       "      <td>3.81</td>\n",
       "    </tr>\n",
       "  </tbody>\n",
       "</table>\n",
       "</div>"
      ],
      "text/plain": [
       "     SAT   GPA\n",
       "79  1936  3.71\n",
       "80  1810  3.71\n",
       "81  1987  3.73\n",
       "82  1962  3.76\n",
       "83  2050  3.81"
      ]
     },
     "execution_count": 5,
     "metadata": {},
     "output_type": "execute_result"
    }
   ],
   "source": [
    "score_data.tail()"
   ]
  },
  {
   "cell_type": "code",
   "execution_count": 6,
   "id": "d158f760-f758-4b7e-9cee-100e124dfd1f",
   "metadata": {},
   "outputs": [
    {
     "name": "stdout",
     "output_type": "stream",
     "text": [
      "<class 'pandas.core.frame.DataFrame'>\n",
      "RangeIndex: 84 entries, 0 to 83\n",
      "Data columns (total 2 columns):\n",
      " #   Column  Non-Null Count  Dtype  \n",
      "---  ------  --------------  -----  \n",
      " 0   SAT     84 non-null     int64  \n",
      " 1   GPA     84 non-null     float64\n",
      "dtypes: float64(1), int64(1)\n",
      "memory usage: 1.4 KB\n"
     ]
    }
   ],
   "source": [
    "score_data.info()"
   ]
  },
  {
   "cell_type": "code",
   "execution_count": 7,
   "id": "e87078db-b2af-4712-9f0e-4db2fd73920d",
   "metadata": {},
   "outputs": [
    {
     "data": {
      "text/plain": [
       "SAT    False\n",
       "GPA    False\n",
       "dtype: bool"
      ]
     },
     "execution_count": 7,
     "metadata": {},
     "output_type": "execute_result"
    }
   ],
   "source": [
    "score_data.isnull().any()"
   ]
  },
  {
   "cell_type": "code",
   "execution_count": 8,
   "id": "7f2c06e7-90bc-4e38-9691-c4ee14e2e5d2",
   "metadata": {},
   "outputs": [
    {
     "data": {
      "text/html": [
       "<div>\n",
       "<style scoped>\n",
       "    .dataframe tbody tr th:only-of-type {\n",
       "        vertical-align: middle;\n",
       "    }\n",
       "\n",
       "    .dataframe tbody tr th {\n",
       "        vertical-align: top;\n",
       "    }\n",
       "\n",
       "    .dataframe thead th {\n",
       "        text-align: right;\n",
       "    }\n",
       "</style>\n",
       "<table border=\"1\" class=\"dataframe\">\n",
       "  <thead>\n",
       "    <tr style=\"text-align: right;\">\n",
       "      <th></th>\n",
       "      <th>SAT</th>\n",
       "      <th>GPA</th>\n",
       "    </tr>\n",
       "  </thead>\n",
       "  <tbody>\n",
       "    <tr>\n",
       "      <th>count</th>\n",
       "      <td>84.000000</td>\n",
       "      <td>84.000000</td>\n",
       "    </tr>\n",
       "    <tr>\n",
       "      <th>mean</th>\n",
       "      <td>1845.273810</td>\n",
       "      <td>3.330238</td>\n",
       "    </tr>\n",
       "    <tr>\n",
       "      <th>std</th>\n",
       "      <td>104.530661</td>\n",
       "      <td>0.271617</td>\n",
       "    </tr>\n",
       "    <tr>\n",
       "      <th>min</th>\n",
       "      <td>1634.000000</td>\n",
       "      <td>2.400000</td>\n",
       "    </tr>\n",
       "    <tr>\n",
       "      <th>25%</th>\n",
       "      <td>1772.000000</td>\n",
       "      <td>3.190000</td>\n",
       "    </tr>\n",
       "    <tr>\n",
       "      <th>50%</th>\n",
       "      <td>1846.000000</td>\n",
       "      <td>3.380000</td>\n",
       "    </tr>\n",
       "    <tr>\n",
       "      <th>75%</th>\n",
       "      <td>1934.000000</td>\n",
       "      <td>3.502500</td>\n",
       "    </tr>\n",
       "    <tr>\n",
       "      <th>max</th>\n",
       "      <td>2050.000000</td>\n",
       "      <td>3.810000</td>\n",
       "    </tr>\n",
       "  </tbody>\n",
       "</table>\n",
       "</div>"
      ],
      "text/plain": [
       "               SAT        GPA\n",
       "count    84.000000  84.000000\n",
       "mean   1845.273810   3.330238\n",
       "std     104.530661   0.271617\n",
       "min    1634.000000   2.400000\n",
       "25%    1772.000000   3.190000\n",
       "50%    1846.000000   3.380000\n",
       "75%    1934.000000   3.502500\n",
       "max    2050.000000   3.810000"
      ]
     },
     "execution_count": 8,
     "metadata": {},
     "output_type": "execute_result"
    }
   ],
   "source": [
    "score_data.describe()"
   ]
  },
  {
   "cell_type": "code",
   "execution_count": 9,
   "id": "9aec7b53-a121-4b4e-82c6-9ac02d7cbaa3",
   "metadata": {},
   "outputs": [
    {
     "data": {
      "text/plain": [
       "array([[<Axes: title={'center': 'SAT'}>, <Axes: title={'center': 'GPA'}>]],\n",
       "      dtype=object)"
      ]
     },
     "execution_count": 9,
     "metadata": {},
     "output_type": "execute_result"
    },
    {
     "data": {
      "image/png": "[encoded data removed]",
      "text/plain": [
       "<Figure size 640x480 with 2 Axes>"
      ]
     },
     "metadata": {},
     "output_type": "display_data"
    }
   ],
   "source": [
    "score_data.hist(bins=5)"
   ]
  },
  {
   "cell_type": "code",
   "execution_count": 10,
   "id": "d0c44c19-89f3-40a0-b9ee-cbd9a71338f3",
   "metadata": {},
   "outputs": [],
   "source": [
    "gpa=score_data['GPA']\n",
    "SAT=score_data['SAT']"
   ]
  },
  {
   "cell_type": "code",
   "execution_count": 11,
   "id": "2031c2eb-89e5-4b76-9f97-425977901947",
   "metadata": {},
   "outputs": [],
   "source": [
    "Q1=gpa.quantile(0.25)\n",
    "Q3=gpa.quantile(0.75)\n",
    "IQR=Q3-Q1"
   ]
  },
  {
   "cell_type": "code",
   "execution_count": 12,
   "id": "9b16ff63-9fd2-4480-8882-1a1a425341fb",
   "metadata": {},
   "outputs": [],
   "source": [
    "lower_bound = Q1-1.5*IQR\n",
    "upper_bound = Q3+1.5*IQR"
   ]
  },
  {
   "cell_type": "code",
   "execution_count": 13,
   "id": "142987dd-2fc0-473c-a5f2-5437cc5df6d2",
   "metadata": {},
   "outputs": [
    {
     "name": "stdout",
     "output_type": "stream",
     "text": [
      "Outliers:\n",
      "     SAT   GPA\n",
      "0  1714  2.40\n",
      "1  1664  2.52\n",
      "2  1760  2.54\n"
     ]
    }
   ],
   "source": [
    "outliers=score_data[(gpa<lower_bound) | (gpa>upper_bound) ]\n",
    "print(\"Outliers:\\n\",outliers)"
   ]
  },
  {
   "cell_type": "code",
   "execution_count": 14,
   "id": "eafbc6fc-5d49-4792-9f78-843dfb66d22b",
   "metadata": {},
   "outputs": [],
   "source": [
    "Q1=SAT.quantile(0.25)\n",
    "Q3=SAT.quantile(0.75)\n",
    "IQR=Q3-Q1\n",
    "lower_bound = Q1-1.5*IQR\n",
    "upper_bound = Q3+1.5*IQR"
   ]
  },
  {
   "cell_type": "code",
   "execution_count": 15,
   "id": "19faf54f-b58c-4a2d-aa5b-fab362b3a73b",
   "metadata": {},
   "outputs": [],
   "source": [
    "import seaborn as sns"
   ]
  },
  {
   "cell_type": "code",
   "execution_count": 16,
   "id": "8979c4d5-f139-4167-870c-5ccf9606a135",
   "metadata": {},
   "outputs": [
    {
     "data": {
      "image/png": "[encoded data removed]",
      "text/plain": [
       "<Figure size 640x480 with 1 Axes>"
      ]
     },
     "metadata": {},
     "output_type": "display_data"
    }
   ],
   "source": [
    "sns.boxplot(x=gpa,color='skyblue')\n",
    "plt.title(\"Boxplot to detect outliers\")\n",
    "plt.show()"
   ]
  },
  {
   "cell_type": "code",
   "execution_count": 17,
   "id": "f81bb7f8-bc36-42cf-823f-ae74cebb580a",
   "metadata": {},
   "outputs": [
    {
     "name": "stdout",
     "output_type": "stream",
     "text": [
      "Outliers: Empty DataFrame\n",
      "Columns: [SAT, GPA]\n",
      "Index: []\n"
     ]
    }
   ],
   "source": [
    "outliers=score_data[(SAT<lower_bound) | (SAT>upper_bound) ]\n",
    "print(\"Outliers:\",outliers)"
   ]
  },
  {
   "cell_type": "code",
   "execution_count": 18,
   "id": "76dc2512-e08a-4f13-ad3c-88d33b4e6244",
   "metadata": {},
   "outputs": [
    {
     "data": {
      "text/html": [
       "<div>\n",
       "<style scoped>\n",
       "    .dataframe tbody tr th:only-of-type {\n",
       "        vertical-align: middle;\n",
       "    }\n",
       "\n",
       "    .dataframe tbody tr th {\n",
       "        vertical-align: top;\n",
       "    }\n",
       "\n",
       "    .dataframe thead th {\n",
       "        text-align: right;\n",
       "    }\n",
       "</style>\n",
       "<table border=\"1\" class=\"dataframe\">\n",
       "  <thead>\n",
       "    <tr style=\"text-align: right;\">\n",
       "      <th></th>\n",
       "      <th>SAT</th>\n",
       "      <th>GPA</th>\n",
       "    </tr>\n",
       "  </thead>\n",
       "  <tbody>\n",
       "    <tr>\n",
       "      <th>SAT</th>\n",
       "      <td>1.000000</td>\n",
       "      <td>0.637184</td>\n",
       "    </tr>\n",
       "    <tr>\n",
       "      <th>GPA</th>\n",
       "      <td>0.637184</td>\n",
       "      <td>1.000000</td>\n",
       "    </tr>\n",
       "  </tbody>\n",
       "</table>\n",
       "</div>"
      ],
      "text/plain": [
       "          SAT       GPA\n",
       "SAT  1.000000  0.637184\n",
       "GPA  0.637184  1.000000"
      ]
     },
     "execution_count": 18,
     "metadata": {},
     "output_type": "execute_result"
    }
   ],
   "source": [
    "\n",
    "#correlation between columns\n",
    "score_data.corr()"
   ]
  },
  {
   "cell_type": "code",
   "execution_count": 19,
   "id": "be1cca52-dc8b-4895-a67b-ae7e052bd2d0",
   "metadata": {},
   "outputs": [],
   "source": [
    "#change 2D array into 1D array\n",
    "X=score_data[\"SAT\"].values.reshape(-1,1)\n",
    "Y=score_data[\"GPA\"].values.reshape(-1,1)"
   ]
  },
  {
   "cell_type": "code",
   "execution_count": 20,
   "id": "c583d2e8-3904-4893-999b-d211fcb54c8e",
   "metadata": {},
   "outputs": [
    {
     "data": {
      "text/plain": [
       "(84, 1)"
      ]
     },
     "execution_count": 20,
     "metadata": {},
     "output_type": "execute_result"
    }
   ],
   "source": [
    "X.shape"
   ]
  },
  {
   "cell_type": "code",
   "execution_count": 21,
   "id": "a6dc7334-0c62-49f8-8dcd-32da4c8a40a6",
   "metadata": {},
   "outputs": [
    {
     "data": {
      "text/plain": [
       "(84, 1)"
      ]
     },
     "execution_count": 21,
     "metadata": {},
     "output_type": "execute_result"
    }
   ],
   "source": [
    "Y.shape"
   ]
  },
  {
   "cell_type": "code",
   "execution_count": 22,
   "id": "e9c0d3c1-f4d2-40f3-a743-faaae08cdf7c",
   "metadata": {},
   "outputs": [
    {
     "data": {
      "text/plain": [
       "Text(0, 0.5, 'GPA')"
      ]
     },
     "execution_count": 22,
     "metadata": {},
     "output_type": "execute_result"
    },
    {
     "data": {
      "image/png": "[encoded data removed]",
      "text/plain": [
       "<Figure size 640x480 with 1 Axes>"
      ]
     },
     "metadata": {},
     "output_type": "display_data"
    }
   ],
   "source": [
    "plt.scatter(X,Y,color='black')\n",
    "plt.xlabel(\"SAT SCORE\")\n",
    "plt.ylabel(\"GPA\")"
   ]
  },
  {
   "cell_type": "code",
   "execution_count": 23,
   "id": "1516fe71-9148-4687-ae41-226da05df405",
   "metadata": {},
   "outputs": [],
   "source": [
    "from sklearn.model_selection import train_test_split\n",
    "xtrain,xtest,ytrain,ytest=train_test_split(X,Y,test_size=0.25,random_state=42)"
   ]
  },
  {
   "cell_type": "code",
   "execution_count": 24,
   "id": "67e14eb4-6af1-4ce0-ad46-12554e43fb74",
   "metadata": {},
   "outputs": [
    {
     "name": "stdout",
     "output_type": "stream",
     "text": [
      "xtrain (63, 1)\n",
      "xtest (21, 1)\n",
      "ytrain (63, 1)\n",
      "ytest (21, 1)\n"
     ]
    }
   ],
   "source": [
    "print(\"xtrain\",xtrain.shape)\n",
    "print(\"xtest\",xtest.shape)\n",
    "print(\"ytrain\",ytrain.shape)\n",
    "print(\"ytest\",ytest.shape)"
   ]
  },
  {
   "cell_type": "code",
   "execution_count": 25,
   "id": "c4e5a543-557f-4eb2-86ea-db4f12ea0fcf",
   "metadata": {},
   "outputs": [],
   "source": [
    "from sklearn.linear_model import LinearRegression"
   ]
  },
  {
   "cell_type": "code",
   "execution_count": 26,
   "id": "58e6e7eb-be4e-4b50-952d-6fe803ca5752",
   "metadata": {},
   "outputs": [],
   "source": [
    "lr=LinearRegression()\n",
    "model=lr.fit(xtrain,ytrain)"
   ]
  },
  {
   "cell_type": "code",
   "execution_count": 27,
   "id": "766b2431-de48-4c94-9468-52053d22d998",
   "metadata": {},
   "outputs": [],
   "source": [
    "ypred=model.predict(xtest)"
   ]
  },
  {
   "cell_type": "code",
   "execution_count": 28,
   "id": "01da1f27-1472-4dff-8230-85e809992ac2",
   "metadata": {},
   "outputs": [
    {
     "data": {
      "text/plain": [
       "array([[3.47288907],\n",
       "       [3.14682824],\n",
       "       [3.24612858],\n",
       "       [3.07124141],\n",
       "       [3.17795223],\n",
       "       [3.47140697],\n",
       "       [3.17795223],\n",
       "       [3.33653636],\n",
       "       [3.11570425],\n",
       "       [3.32171541],\n",
       "       [3.37062454],\n",
       "       [3.50549515],\n",
       "       [3.34691102],\n",
       "       [3.55144009],\n",
       "       [3.40323062],\n",
       "       [3.39137386],\n",
       "       [3.35580359],\n",
       "       [3.56626103],\n",
       "       [3.5203161 ],\n",
       "       [3.53958333],\n",
       "       [3.23723601]])"
      ]
     },
     "execution_count": 28,
     "metadata": {},
     "output_type": "execute_result"
    }
   ],
   "source": [
    "ypred"
   ]
  },
  {
   "cell_type": "code",
   "execution_count": 29,
   "id": "63c90525-2987-47ad-bb6d-525cb132757e",
   "metadata": {},
   "outputs": [
    {
     "data": {
      "text/plain": [
       "array([[3.6 ],\n",
       "       [2.4 ],\n",
       "       [3.47],\n",
       "       [3.2 ],\n",
       "       [3.08],\n",
       "       [3.59],\n",
       "       [3.02],\n",
       "       [3.17],\n",
       "       [2.83],\n",
       "       [3.52],\n",
       "       [3.37],\n",
       "       [3.4 ],\n",
       "       [3.31],\n",
       "       [3.73],\n",
       "       [3.47],\n",
       "       [3.44],\n",
       "       [3.29],\n",
       "       [3.64],\n",
       "       [3.38],\n",
       "       [3.41],\n",
       "       [3.07]])"
      ]
     },
     "execution_count": 29,
     "metadata": {},
     "output_type": "execute_result"
    }
   ],
   "source": [
    "ytest"
   ]
  },
  {
   "cell_type": "code",
   "execution_count": 30,
   "id": "6ab776ae-878b-4938-8ac0-3f8b63b0b616",
   "metadata": {},
   "outputs": [
    {
     "data": {
      "text/plain": [
       "Text(0, 0.5, 'GPA')"
      ]
     },
     "execution_count": 30,
     "metadata": {},
     "output_type": "execute_result"
    },
    {
     "data": {
      "image/png": "[encoded data removed]",
      "text/plain": [
       "<Figure size 640x480 with 1 Axes>"
      ]
     },
     "metadata": {},
     "output_type": "display_data"
    }
   ],
   "source": [
    "plt.scatter(X,Y,color='r')\n",
    "plt.plot(xtest,ypred)\n",
    "plt.xlabel(\"SAT\")\n",
    "plt.ylabel(\"GPA\")"
   ]
  },
  {
   "cell_type": "code",
   "execution_count": 31,
   "id": "09453fc6-c726-4884-808b-9ff3c673b5b7",
   "metadata": {},
   "outputs": [],
   "source": [
    "from sklearn.metrics import mean_absolute_error,mean_squared_error,r2_score\n"
   ]
  },
  {
   "cell_type": "code",
   "execution_count": 32,
   "id": "7cd89b74-0af5-4459-a793-41dae9f0e289",
   "metadata": {},
   "outputs": [
    {
     "name": "stdout",
     "output_type": "stream",
     "text": [
      "MAE 0.15548838076312174\n"
     ]
    }
   ],
   "source": [
    "print(\"MAE\",mean_absolute_error(ytest,ypred))"
   ]
  },
  {
   "cell_type": "code",
   "execution_count": 33,
   "id": "aea1d182-fd77-456a-8199-22e7e2bc0156",
   "metadata": {},
   "outputs": [
    {
     "name": "stdout",
     "output_type": "stream",
     "text": [
      "MSE 0.04587175782015936\n"
     ]
    }
   ],
   "source": [
    "print(\"MSE\",mean_squared_error(ytest,ypred))"
   ]
  },
  {
   "cell_type": "code",
   "execution_count": 34,
   "id": "1844a750-6d1a-49f3-a07a-73721b181205",
   "metadata": {},
   "outputs": [
    {
     "name": "stdout",
     "output_type": "stream",
     "text": [
      "RMSE 0.2141769311110778\n"
     ]
    }
   ],
   "source": [
    "#Root mean square\n",
    "from math import sqrt as sqrt\n",
    "print(\"RMSE\",sqrt(mean_squared_error(ytest,ypred)))\n"
   ]
  },
  {
   "cell_type": "code",
   "execution_count": 35,
   "id": "042a0283-df05-40a5-892e-63e74c6dfde1",
   "metadata": {},
   "outputs": [
    {
     "name": "stdout",
     "output_type": "stream",
     "text": [
      "R^2 (oefficient of determination  0.48516938725866743\n"
     ]
    }
   ],
   "source": [
    "r2=r2_score(ytest,ypred)\n",
    "print(\"R^2 (oefficient of determination \",r2)"
   ]
  },
  {
   "cell_type": "code",
   "execution_count": 36,
   "id": "5734671d-5afa-4a42-973d-661b40ac5a96",
   "metadata": {},
   "outputs": [
    {
     "name": "stdout",
     "output_type": "stream",
     "text": [
      "Adjusted R2 Score  1.54192696078035\n"
     ]
    }
   ],
   "source": [
    "#Adjusted R2 Score\n",
    "N=len(ypred)\n",
    "p=1\n",
    "ar2=1-((1-r2)*(1-N)/(N-p-1))\n",
    "print(\"Adjusted R2 Score \",ar2)"
   ]
  },
  {
   "cell_type": "code",
   "execution_count": 37,
   "id": "a5b3c872-2fd0-450a-84ff-4f0bc4e58bee",
   "metadata": {},
   "outputs": [
    {
     "name": "stdout",
     "output_type": "stream",
     "text": [
      "y = 0.0015 * x +0.6065\n"
     ]
    }
   ],
   "source": [
    "#y=a*x+b\n",
    "a=model.coef_[0][0]\n",
    "b=model.intercept_[0]\n",
    "print(f\"y = {a:.4f} * x +{b:.4f}\")"
   ]
  },
  {
   "cell_type": "code",
   "execution_count": 38,
   "id": "9c1fd4b3-0493-4f78-873b-3a5bdf7a9b28",
   "metadata": {},
   "outputs": [
    {
     "data": {
      "text/plain": [
       "array([[4.31175465]])"
      ]
     },
     "execution_count": 38,
     "metadata": {},
     "output_type": "execute_result"
    }
   ],
   "source": [
    "model.predict([[2500]])"
   ]
  },
  {
   "cell_type": "code",
   "execution_count": 39,
   "id": "c75e69e9-44f0-47a5-a112-6f973fa1054f",
   "metadata": {},
   "outputs": [],
   "source": [
    "import pickle\n",
    "picklefile=r\"C:\\Users\\Adhi Ganapathy\\Documents\\Python_ws\\Linear Regression 13072025\\Model\\Linear_reg.pkl\"\n",
    "with open(picklefile,'wb') as file:\n",
    "    pickle.dump(model,file)"
   ]
  },
  {
   "cell_type": "code",
   "execution_count": 40,
   "id": "c7d49065-30e2-427b-9fb9-6c01e99d3399",
   "metadata": {},
   "outputs": [],
   "source": [
    "with open(picklefile,'rb') as file:\n",
    "    load_model =pickle.load(file)"
   ]
  },
  {
   "cell_type": "code",
   "execution_count": 41,
   "id": "e55d6ff8-e33d-4dfa-b566-cbd69656da23",
   "metadata": {},
   "outputs": [
    {
     "data": {
      "text/plain": [
       "array([[4.31175465]])"
      ]
     },
     "execution_count": 41,
     "metadata": {},
     "output_type": "execute_result"
    }
   ],
   "source": [
    "load_model.predict([[2500]])"
   ]
  },
  {
   "cell_type": "code",
   "execution_count": null,
   "id": "1825deb7-e165-4fa7-863b-6487b50958d6",
   "metadata": {},
   "outputs": [],
   "source": []
  },
  {
   "cell_type": "code",
   "execution_count": null,
   "id": "8bf7edf9-2201-4dff-8e56-82bd0379f792",
   "metadata": {},
   "outputs": [],
   "source": []
  },
  {
   "cell_type": "code",
   "execution_count": null,
   "id": "6e37364e-7d88-4e33-aa45-8540ba561f06",
   "metadata": {},
   "outputs": [],
   "source": []
  },
  {
   "cell_type": "code",
   "execution_count": null,
   "id": "e1f62aeb-5d4b-402e-97c2-a6550fe138c9",
   "metadata": {},
   "outputs": [],
   "source": []
  }
 ],
 "metadata": {
  "kernelspec": {
   "display_name": "Python 3 (ipykernel)",
   "language": "python",
   "name": "python3"
  },
  "language_info": {
   "codemirror_mode": {
    "name": "ipython",
    "version": 3
   },
   "file_extension": ".py",
   "mimetype": "text/x-python",
   "name": "python",
   "nbconvert_exporter": "python",
   "pygments_lexer": "ipython3",
   "version": "3.13.2"
  }
 },
 "nbformat": 4,
 "nbformat_minor": 5
}
